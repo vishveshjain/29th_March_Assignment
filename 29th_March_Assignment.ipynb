{
 "cells": [
  {
   "cell_type": "code",
   "execution_count": null,
   "id": "fc88203f-d2ac-4d05-9a8c-daf3213bc560",
   "metadata": {},
   "outputs": [],
   "source": [
    "\"\"\"Q1. What is Lasso Regression, and how does it differ from other regression techniques?\n",
    "\n",
    "    Ans: Lasso regression is a type of regression analysis that includes a penalty term to the sum of absolute values of the model's coefficients. \n",
    "         This encourages the model to reduce the magnitude of less important coefficients to zero, resulting in feature selection. \n",
    "         Lasso differs from other regression techniques like Ridge regression, which penalizes the sum of squared coefficients, and does not perform feature selection.\n",
    "\"\"\""
   ]
  },
  {
   "cell_type": "code",
   "execution_count": null,
   "id": "10ca1bbe-0c34-4518-81e1-3576e581b929",
   "metadata": {},
   "outputs": [],
   "source": [
    "\"\"\"Q2. What is the main advantage of using Lasso Regression in feature selection?\n",
    "\n",
    "    Ans: Lasso regression can perform feature selection by shrinking the coefficients of less important features to zero. \n",
    "         This means that Lasso can identify the most important features for predicting the outcome variable and remove the less important ones, \n",
    "         which can improve the model's performance and interpretability.\n",
    "\"\"\""
   ]
  },
  {
   "cell_type": "code",
   "execution_count": null,
   "id": "d648d659-2a56-4d68-b678-1ec284f0910a",
   "metadata": {},
   "outputs": [],
   "source": [
    "\"\"\"Q3. How do you interpret the coefficients of a Lasso Regression model?\n",
    "\n",
    "    Ans: In Lasso regression, the coefficients represent the strength and direction of the relationship between the independent variables and the dependent variable. \n",
    "         A positive coefficient indicates a positive relationship, while a negative coefficient indicates a negative relationship. \n",
    "         The magnitude of the coefficient represents the strength of the relationship. The coefficients in Lasso regression can also be interpreted as feature \n",
    "         importance or feature selection, where variables with non-zero coefficients are considered important predictors.\n",
    "\"\"\""
   ]
  },
  {
   "cell_type": "code",
   "execution_count": null,
   "id": "bbf3a3df-69a3-4901-978b-e10f3daca616",
   "metadata": {},
   "outputs": [],
   "source": [
    "\"\"\"Q4. What are the tuning parameters that can be adjusted in Lasso Regression, and how do they affect the model's performance?\n",
    "\n",
    "    Ans: In Lasso Regression, there is a tuning parameter called alpha that controls the strength of regularization. \n",
    "         A higher value of alpha results in a more restricted model with fewer features selected, while a lower value of alpha allows more features to be included in the model. \n",
    "         Thus, the choice of alpha should balance between model complexity and predictive accuracy.\n",
    "\"\"\""
   ]
  },
  {
   "cell_type": "code",
   "execution_count": null,
   "id": "3f2dfb97-24c0-408c-aa79-f4364797c0f3",
   "metadata": {},
   "outputs": [],
   "source": [
    "\"\"\"Q5. Can Lasso Regression be used for non-linear regression problems? If yes, how?\n",
    "\n",
    "    Ans: Lasso regression is primarily used for linear regression problems, but it can also be extended to non-linear regression problems by including non-linear transformations of the features. For example, polynomial regression can be combined with Lasso regularization to fit non-linear functions. However, this can increase the complexity of the model and the risk of overfitting.\n",
    "\"\"\""
   ]
  },
  {
   "cell_type": "code",
   "execution_count": null,
   "id": "54a18492-4f8b-4d89-ad98-44ca80f50976",
   "metadata": {},
   "outputs": [],
   "source": [
    "\"\"\"Q6. What is the difference between Ridge Regression and Lasso Regression?\n",
    "\n",
    "    Ans: Ridge and Lasso regression are two common techniques used in machine learning to reduce the impact of irrelevant or highly correlated features in a model. \n",
    "         Ridge regression shrinks the regression coefficients towards zero, while Lasso regression can shrink coefficients to exactly zero, effectively removing \n",
    "         features from the model.\n",
    "\"\"\""
   ]
  },
  {
   "cell_type": "code",
   "execution_count": null,
   "id": "94b6bbd1-422b-4bb3-b230-e2e2c343e377",
   "metadata": {},
   "outputs": [],
   "source": [
    "\"\"\"Q7. Can Lasso Regression handle multicollinearity in the input features? If yes, how?\n",
    "\n",
    "    Ans: Yes, Lasso Regression can handle multicollinearity in the input features by introducing a penalty term that shrinks the regression coefficients towards zero, \n",
    "         effectively selecting only the most important features. This penalty term encourages the coefficients of correlated features to be close to each other or zero.\n",
    "\"\"\""
   ]
  },
  {
   "cell_type": "code",
   "execution_count": null,
   "id": "c35d86a0-a8b4-46b0-82e9-b27c0c658eda",
   "metadata": {},
   "outputs": [],
   "source": [
    "\"\"\"Q8. How do you choose the optimal value of the regularization parameter (lambda) in Lasso Regression?\n",
    "\n",
    "    Ans: To choose the optimal value of the regularization parameter lambda in Lasso Regression, one can use cross-validation to evaluate different values of lambda and \n",
    "         select the one that gives the best balance between model complexity and accuracy. Essentially, you want to find the value of lambda that minimizes the error of \n",
    "         the model while also preventing overfitting.\n",
    "\"\"\""
   ]
  }
 ],
 "metadata": {
  "kernelspec": {
   "display_name": "Python 3 (ipykernel)",
   "language": "python",
   "name": "python3"
  },
  "language_info": {
   "codemirror_mode": {
    "name": "ipython",
    "version": 3
   },
   "file_extension": ".py",
   "mimetype": "text/x-python",
   "name": "python",
   "nbconvert_exporter": "python",
   "pygments_lexer": "ipython3",
   "version": "3.10.8"
  }
 },
 "nbformat": 4,
 "nbformat_minor": 5
}
